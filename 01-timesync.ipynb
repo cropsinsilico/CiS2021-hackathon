{
 "cells": [
  {
   "cell_type": "code",
   "execution_count": null,
   "metadata": {
    "slideshow": {
     "slide_type": "slide"
    }
   },
   "outputs": [],
   "source": [
    "from utils import *\n",
    "from yggdrasil.runner import run\n",
    "from yggdrasil import tools"
   ]
  },
  {
   "cell_type": "markdown",
   "metadata": {},
   "source": [
    "# Time Step Synchronization\n",
    "\n",
    "In addition to allowing models to call other models as functions, yggdrasil also provides a method of synchronizing data across time dependent models, even if the models have different time steps. To see how this works in practice, the following shows how we could connect the plant model from above with the time-dependent root growth model shown below."
   ]
  },
  {
   "cell_type": "code",
   "execution_count": null,
   "metadata": {},
   "outputs": [],
   "source": [
    "from models import roots_v0\n",
    "tools.display_source(roots_v0.run, number_lines=True)"
   ]
  },
  {
   "cell_type": "markdown",
   "metadata": {},
   "source": [
    "First, the yaml for the new roots model will include a `timesync` parameter sepcifying the name of a dummy timesync \"model\" and an output entry for mass. \n",
    "\n",
    "In addition, the yaml shown below also includes the yaml entry for the dummy timesync \"model\" that specifies how data between models connecting to it should be aggregated (in this case by summing). This entry could be in the plant yaml or one of its own, but is included here for brevity."
   ]
  },
  {
   "cell_type": "code",
   "execution_count": null,
   "metadata": {},
   "outputs": [],
   "source": [
    "tools.display_source('yamls/roots.yml', number_lines=True)"
   ]
  },
  {
   "cell_type": "markdown",
   "metadata": {},
   "source": [
    "The source code for the updated root model then contains two interface comms, one for the timesync and one for outputing masses. The name passed to the `YggTimesync` time step synchronization interface is the `timesync` param from the root model yaml and the name passed to the mass output interface is taken from the name of the output channel listed in the root model yaml. \n",
    "\n",
    "These interfaces are both used in time loop, with the `YggTimesync` interface being \"called\" using the same syntax as the `YggRpcClient` interface used in the previous server/client example."
   ]
  },
  {
   "cell_type": "code",
   "execution_count": null,
   "metadata": {},
   "outputs": [],
   "source": [
    "from models import roots_v1\n",
    "tools.display_source_diff(roots_v0.run, roots_v1.run, number_lines=True)"
   ]
  },
  {
   "cell_type": "markdown",
   "metadata": {},
   "source": [
    "To update the yaml for the plant model to include the time step synchronization, we only need to add a `timesync` parameter. By specifying the same name as the roots yaml, we indicate that data should be synchronized between those models. In this way, multiple synchronizations can be performed between different combinations of models."
   ]
  },
  {
   "cell_type": "code",
   "execution_count": null,
   "metadata": {},
   "outputs": [],
   "source": [
    "tools.display_source_diff('yamls/plant_v1.yml', 'yamls/plant_v2.yml', number_lines=True)"
   ]
  },
  {
   "cell_type": "markdown",
   "metadata": {},
   "source": [
    "In the same way as the root model, time step synchronization is added to the plant model by adding a `YggTimesync` comm with calls inside the time loop."
   ]
  },
  {
   "cell_type": "code",
   "execution_count": null,
   "metadata": {},
   "outputs": [],
   "source": [
    "from models import plant_v2\n",
    "tools.display_source_diff(plant_v1.run, plant_v2.run, number_lines=True)"
   ]
  },
  {
   "cell_type": "markdown",
   "metadata": {},
   "source": [
    "This integration can then be run by providing the models for the updated plant model, light model, and root model to the yggdrasil `run` method."
   ]
  },
  {
   "cell_type": "code",
   "execution_count": null,
   "metadata": {},
   "outputs": [],
   "source": [
    "run(['yamls/plant_v2.yml', 'yamls/light.yml', 'yamls/roots.yml'], production_run=True)\n",
    "display_last_timestep(with_light=True, with_masses=True)"
   ]
  }
 ],
 "metadata": {
  "kernelspec": {
   "display_name": "Python 3",
   "language": "python",
   "name": "python3"
  },
  "language_info": {
   "codemirror_mode": {
    "name": "ipython",
    "version": 3
   },
   "file_extension": ".py",
   "mimetype": "text/x-python",
   "name": "python",
   "nbconvert_exporter": "python",
   "pygments_lexer": "ipython3",
   "version": "3.6.13"
  }
 },
 "nbformat": 4,
 "nbformat_minor": 4
}
