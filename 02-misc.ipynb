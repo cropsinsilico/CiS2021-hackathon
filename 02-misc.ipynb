{
 "cells": [
  {
   "cell_type": "markdown",
   "id": "6f5da9c0",
   "metadata": {},
   "source": [
    "# Import Models as Python Functions\n",
    "\n",
    "A useful feature of yggdrasil is that you can use the mechanics to call models as functions from inside Python even if the model is not written in Python. For example, the model displayed below is written in Fortran, but can be called from Python via the yggdrasil `import_as_function` method."
   ]
  },
  {
   "cell_type": "code",
   "execution_count": 1,
   "id": "d105096b",
   "metadata": {},
   "outputs": [
    {
     "name": "stdout",
     "output_type": "stream",
     "text": [
      "file: models/light.f90\n",
      "======================\n",
      " 1: \u001b[38;5;28;01mfunction \u001b[39;00mlight(height, \u001b[38;5;28mtime\u001b[39m, intensity) \u001b[38;5;28;01mresult\u001b[39;00m(out)\n",
      " 2:   \u001b[38;5;125mreal\u001b[39m(\u001b[38;5;28mkind\u001b[39m\u001b[38;5;241m=\u001b[39m\u001b[38;5;241m8\u001b[39m), \u001b[38;5;28;01mdimension\u001b[39;00m(:), \u001b[38;5;28;01mintent\u001b[39;00m(in) \u001b[38;5;28;01m::\u001b[39;00m height\n",
      " 3:   \u001b[38;5;125mreal\u001b[39m(\u001b[38;5;28mkind\u001b[39m\u001b[38;5;241m=\u001b[39m\u001b[38;5;241m8\u001b[39m), \u001b[38;5;28;01mintent\u001b[39;00m(in) \u001b[38;5;28;01m::\u001b[39;00m \u001b[38;5;28mtime\u001b[39m\n",
      " 4: \u001b[38;5;28m  \u001b[39m\u001b[38;5;125mreal\u001b[39m(\u001b[38;5;28mkind\u001b[39m\u001b[38;5;241m=\u001b[39m\u001b[38;5;241m8\u001b[39m), \u001b[38;5;28;01mdimension\u001b[39;00m(:), \u001b[38;5;28;01mallocatable\u001b[39;00m \u001b[38;5;28;01m::\u001b[39;00m intensity\n",
      " 5:   \u001b[38;5;125mlogical\u001b[39m \u001b[38;5;28;01m::\u001b[39;00m out\n",
      " 6:   \u001b[38;5;125minteger\u001b[39m \u001b[38;5;28;01m::\u001b[39;00m i\n",
      " 7:   \u001b[38;5;125mreal\u001b[39m, \u001b[38;5;28;01mparameter\u001b[39;00m \u001b[38;5;28;01m::\u001b[39;00m Pi \u001b[38;5;241m=\u001b[39m \u001b[38;5;241m3.1415927\u001b[39m\n",
      " 8:   out \u001b[38;5;241m=\u001b[39m .true.\n",
      " 9:   \u001b[38;5;28;01mif\u001b[39;00m (\u001b[38;5;28mallocated\u001b[39m(intensity)) \u001b[38;5;28;01mthen\u001b[39;00m\n",
      "10: \u001b[38;5;28;01m     \u001b[39;00m\u001b[38;5;28;01mdeallocate\u001b[39;00m(intensity)\n",
      "11:   \u001b[38;5;28;01mend \u001b[39;00m\u001b[38;5;28;01mif\u001b[39;00m\n",
      "12: \u001b[38;5;28;01m  \u001b[39;00m\u001b[38;5;28;01mallocate\u001b[39;00m(intensity(size(height)))\n",
      "13:   \u001b[38;5;28;01mdo \u001b[39;00mi \u001b[38;5;241m=\u001b[39m \u001b[38;5;241m1\u001b[39m, size(height)\n",
      "14:      intensity(i) \u001b[38;5;241m=\u001b[39m \u001b[38;5;241m8\u001b[39m\u001b[38;5;241m0.0\u001b[39m \u001b[38;5;241m*\u001b[39m (\u001b[38;5;241m1.0\u001b[39m \u001b[38;5;241m+\u001b[39m \u001b[38;5;28mSIN\u001b[39m(\u001b[38;5;241m2.0\u001b[39m \u001b[38;5;241m*\u001b[39m Pi \u001b[38;5;241m*\u001b[39m \u001b[38;5;28mtime\u001b[39m \u001b[38;5;241m/\u001b[39m \u001b[38;5;241m365\u001b[39m)) \u001b[38;5;241m/\u001b[39m (\u001b[38;5;28mABS\u001b[39m(\u001b[38;5;241m20\u001b[39m\u001b[38;5;241m0.0\u001b[39m \u001b[38;5;241m-\u001b[39m height(i))\u001b[38;5;241m**\u001b[39m\u001b[38;5;241m2\u001b[39m)\n",
      "15:   \u001b[38;5;28;01mend \u001b[39;00m\u001b[38;5;28;01mdo\u001b[39;00m\n",
      "16: \u001b[38;5;28;01mend \u001b[39;00m\u001b[38;5;28;01mfunction \u001b[39;00mlight\n",
      "\n",
      "file: yamls/light_fortran.yml\n",
      "=============================\n",
      " 1: \u001b[38;5;28;01mmodel\u001b[39;00m:\n",
      " 2:   \u001b[38;5;28;01mname\u001b[39;00m: light\n",
      " 3:   \u001b[38;5;28;01mlanguage\u001b[39;00m: fortran\n",
      " 4:   \u001b[38;5;28;01margs\u001b[39;00m: ../models/light.f90\n",
      " 5:   \u001b[38;5;28;01mfunction\u001b[39;00m: light\n",
      " 6:   \u001b[38;5;28;01mis_server\u001b[39;00m: True\n",
      " 7:   \u001b[38;5;28;01moutputs\u001b[39;00m: [\u001b[38;5;18mintensity\u001b[39m]\n",
      "\n"
     ]
    }
   ],
   "source": [
    "from yggdrasil import tools\n",
    "tools.display_source('models/light.f90', number_lines=True)\n",
    "tools.display_source('yamls/light_fortran.yml', number_lines=True)"
   ]
  },
  {
   "cell_type": "markdown",
   "id": "9c74831f",
   "metadata": {},
   "source": [
    "When import_as_function is called, the model yaml is loaded and models contained in the yaml are run on forked processes after being copiled as necessary. "
   ]
  },
  {
   "cell_type": "code",
   "execution_count": 2,
   "id": "21def6ce",
   "metadata": {},
   "outputs": [
    {
     "name": "stdout",
     "output_type": "stream",
     "text": [
      "INFO:runner.startDrivers[481]:YggRunner(runner): Starting I/O drivers and models on system None in namespace yggdrasil with rank 0\n",
      "/Users/langmm/yggdrasil/yggdrasil/demos/CiS2021-hackathon/models/ygg_light_f90_gfortranx_gfortranx.out\n",
      "INFO:runner.run[368]:YggRunner(runner):                 init\t0.000001\n",
      "INFO:runner.run[368]:YggRunner(runner):         load drivers\t0.482005\n",
      "INFO:runner.run[368]:YggRunner(runner):        start drivers\t0.073659\n",
      "INFO:runner.run[370]:YggRunner(runner): ========================================\n",
      "INFO:runner.run[371]:YggRunner(runner):                Total\t0.555665\n"
     ]
    }
   ],
   "source": [
    "from yggdrasil import import_as_function\n",
    "light = import_as_function('yamls/light_fortran.yml')"
   ]
  },
  {
   "cell_type": "markdown",
   "id": "c32e734e",
   "metadata": {},
   "source": [
    "The returned function's inputs & outputs are determined by the unpaired inputs/outputs located in the yaml. In this example, the only inputs & outputs come from the server."
   ]
  },
  {
   "cell_type": "code",
   "execution_count": 3,
   "id": "7a85764e",
   "metadata": {},
   "outputs": [
    {
     "name": "stdout",
     "output_type": "stream",
     "text": [
      "Models: light\n",
      "Inputs:\n",
      "\tlight (vars=['height', 'time'])\n",
      "Outputs:\n",
      "\tlight (vars=['intensity'])\n",
      "\n"
     ]
    }
   ],
   "source": [
    "light.info()"
   ]
  },
  {
   "cell_type": "code",
   "execution_count": 4,
   "id": "ec76ce46",
   "metadata": {},
   "outputs": [
    {
     "name": "stdout",
     "output_type": "stream",
     "text": [
      "{'intensity': array([0.00397736, 0.00401743, 0.00405811, 0.00409942, 0.00414135,\n",
      "       0.00418394, 0.00422718, 0.0042711 , 0.00431571, 0.00436102])}\n",
      "{'intensity': array([0.00397736, 0.00401743, 0.00405811, 0.00409942, 0.00414135,\n",
      "       0.00418394, 0.00422718, 0.0042711 , 0.00431571, 0.00436102,\n",
      "       0.00440704, 0.0044538 , 0.00450131, 0.00454958, 0.00459863,\n",
      "       0.00464848, 0.00469914, 0.00475064, 0.00480299, 0.00485621,\n",
      "       0.00491032, 0.00496533, 0.00502128, 0.00507818, 0.00513605,\n",
      "       0.00519491, 0.0052548 , 0.00531572, 0.00537771, 0.00544079,\n",
      "       0.00550499, 0.00557033, 0.00563684, 0.00570455, 0.00577349,\n",
      "       0.00584368, 0.00591516, 0.00598796, 0.00606212, 0.00613766,\n",
      "       0.00621462, 0.00629303, 0.00637295, 0.00645439, 0.0065374 ,\n",
      "       0.00662203, 0.00670831, 0.00679628, 0.006886  , 0.00697751,\n",
      "       0.00707085, 0.00716608, 0.00726325, 0.0073624 , 0.00746361,\n",
      "       0.00756691, 0.00767237, 0.00778005, 0.00789001, 0.00800232,\n",
      "       0.00811705, 0.00823426, 0.00835403, 0.00847643, 0.00860155,\n",
      "       0.00872945, 0.00886023, 0.00899396, 0.00913075, 0.00927068,\n",
      "       0.00941386, 0.00956038, 0.00971034, 0.00986386, 0.01002105,\n",
      "       0.01018203, 0.01034692, 0.01051584, 0.01068894, 0.01086635,\n",
      "       0.01104821, 0.01123467, 0.0114259 , 0.01162205, 0.01182329,\n",
      "       0.01202981, 0.01224178, 0.01245941, 0.01268289, 0.01291244,\n",
      "       0.01314828, 0.01339064, 0.01363976, 0.0138959 , 0.01415933,\n",
      "       0.01443031, 0.01470915, 0.01499615, 0.01529164, 0.01559594])}\n"
     ]
    }
   ],
   "source": [
    "import numpy as np\n",
    "print(light(np.arange(10, dtype='f8'), 100.0))\n",
    "print(light(np.arange(100, dtype='f8'), 100.0))\n",
    "# print(light(100.0, 100.0))"
   ]
  },
  {
   "cell_type": "code",
   "execution_count": 5,
   "id": "cc2ff7bd",
   "metadata": {},
   "outputs": [
    {
     "name": "stdout",
     "output_type": "stream",
     "text": [
      "End of input from [yggarg(height_realloc), yggarg(time)].\n",
      "INFO:runner.waitModels[538]:YggRunner(runner): light finished running.\n",
      "INFO:runner.waitModels[544]:YggRunner(runner): light finished exiting.\n",
      "INFO:runner.waitModels[538]:YggRunner(runner): function_model finished running.\n",
      "INFO:runner.waitModels[544]:YggRunner(runner): function_model finished exiting.\n",
      "INFO:runner.waitModels[558]:YggRunner(runner): All models completed\n"
     ]
    }
   ],
   "source": [
    "light.stop()"
   ]
  },
  {
   "cell_type": "code",
   "execution_count": null,
   "id": "5df181f1",
   "metadata": {},
   "outputs": [],
   "source": []
  }
 ],
 "metadata": {
  "kernelspec": {
   "display_name": "Python 3",
   "language": "python",
   "name": "python3"
  },
  "language_info": {
   "codemirror_mode": {
    "name": "ipython",
    "version": 3
   },
   "file_extension": ".py",
   "mimetype": "text/x-python",
   "name": "python",
   "nbconvert_exporter": "python",
   "pygments_lexer": "ipython3",
   "version": "3.6.13"
  }
 },
 "nbformat": 4,
 "nbformat_minor": 5
}
