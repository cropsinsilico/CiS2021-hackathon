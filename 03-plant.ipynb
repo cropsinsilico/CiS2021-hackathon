{
 "cells": [
  {
   "cell_type": "code",
   "execution_count": 2,
   "metadata": {
    "slideshow": {
     "slide_type": "slide"
    }
   },
   "outputs": [],
   "source": [
    "from utils import *\n",
    "from yggdrasil.runner import run\n",
    "from yggdrasil import tools"
   ]
  },
  {
   "cell_type": "markdown",
   "metadata": {},
   "source": [
    "# Toy Plant Model"
   ]
  },
  {
   "cell_type": "markdown",
   "metadata": {},
   "source": [
    "For the exercises today, we will be using a toy functional-structural plant model that makes the above plant mesh grow over time.\n",
    "\n",
    "In the first version of this model, plant_v0.py (shown below), the growth is very simple and scales directly with time."
   ]
  },
  {
   "cell_type": "code",
   "execution_count": 3,
   "metadata": {},
   "outputs": [
    {
     "name": "stdout",
     "output_type": "stream",
     "text": [
      "<class 'function'>: <function run at 0x1086d1620>\n",
      "=================================================\n",
      " 1: \u001b[38;5;28;01mdef\u001b[39;00m \u001b[38;5;21mrun\u001b[39m(mesh, tmin, tmax, tstep):\n",
      " 2:     mass \u001b[38;5;241m=\u001b[39m \u001b[38;5;241m2000.0\u001b[39m\n",
      " 3:     t \u001b[38;5;241m=\u001b[39m tmin\n",
      " 4:     i \u001b[38;5;241m=\u001b[39m \u001b[38;5;241m0\u001b[39m\n",
      " 5: \n",
      " 6:     \u001b[38;5;28;01mwhile\u001b[39;00m t \u001b[38;5;241m<\u001b[39m\u001b[38;5;241m=\u001b[39m tmax:\n",
      " 7: \n",
      " 8:         \u001b[38;5;66m# Grow mesh\u001b[39m\n",
      " 9:         \u001b[38;5;66m# (pretend this is a biologically complex calculation)\u001b[39m\n",
      "10:         scale \u001b[38;5;241m=\u001b[39m mass \u001b[38;5;241m*\u001b[39m t \u001b[38;5;241m/\u001b[39m \u001b[38;5;241m3.5e5\u001b[39m\n",
      "11:         mesh\u001b[38;5;241m.\u001b[39mvertices[:, \u001b[38;5;241m2\u001b[39m] \u001b[38;5;241m+\u001b[39m\u001b[38;5;241m=\u001b[39m mesh\u001b[38;5;241m.\u001b[39mvertices[:, \u001b[38;5;241m2\u001b[39m] \u001b[38;5;241m*\u001b[39m scale\n",
      "12: \n",
      "13:         \u001b[38;5;66m# Save mesh for this timestep\u001b[39m\n",
      "14:         filename_mesh \u001b[38;5;241m=\u001b[39m os\u001b[38;5;241m.\u001b[39mpath\u001b[38;5;241m.\u001b[39mjoin(_dir, f\u001b[38;5;124m'\u001b[39m\u001b[38;5;124m../output/mesh_{i:03d}.obj\u001b[39m\u001b[38;5;124m'\u001b[39m)\n",
      "15:         \u001b[38;5;28;01mwith\u001b[39;00m \u001b[38;5;28mopen\u001b[39m(filename_mesh, \u001b[38;5;124m'\u001b[39m\u001b[38;5;124mw\u001b[39m\u001b[38;5;124m'\u001b[39m) \u001b[38;5;28;01mas\u001b[39;00m fd:\n",
      "16:             mesh\u001b[38;5;241m.\u001b[39mexport(fd, \u001b[38;5;124m'\u001b[39m\u001b[38;5;124mobj\u001b[39m\u001b[38;5;124m'\u001b[39m)\n",
      "17: \n",
      "18:         \u001b[38;5;66m# Advance time step\u001b[39m\n",
      "19:         t \u001b[38;5;241m+\u001b[39m\u001b[38;5;241m=\u001b[39m tstep\n",
      "20:         i \u001b[38;5;241m+\u001b[39m\u001b[38;5;241m=\u001b[39m \u001b[38;5;241m1\u001b[39m\n",
      "21: \n",
      "22:     \u001b[38;5;28;01mreturn\u001b[39;00m mesh\n",
      "\n"
     ]
    }
   ],
   "source": [
    "from models import plant_v0\n",
    "tools.display_source(plant_v0.run, number_lines=True)"
   ]
  },
  {
   "cell_type": "markdown",
   "metadata": {},
   "source": [
    "The cell below runs this model directly (it is written in Python) and displays the resulting mesh at the end of the run. As you can see the mesh has 'grown' vertically."
   ]
  },
  {
   "cell_type": "code",
   "execution_count": null,
   "metadata": {},
   "outputs": [],
   "source": [
    "mesh = plant_v0.run(mesh, 0, 28, 1)\n",
    "mesh.show()"
   ]
  },
  {
   "cell_type": "markdown",
   "metadata": {},
   "source": [
    "However, we can also run the model using `yggdrasil` if we have a yaml configuration file for it. The cell below displays the configuration file for this model."
   ]
  },
  {
   "cell_type": "code",
   "execution_count": null,
   "metadata": {},
   "outputs": [],
   "source": [
    "tools.display_source('yamls/plant_v0.yml', number_lines=True)"
   ]
  },
  {
   "cell_type": "markdown",
   "metadata": {},
   "source": [
    "The following code allows yggdrasil to run the model using the Python API. This is usually done via the `yggrun` command line utility (e.g. `yggrun yamls/plant_v0.yml`). Because this method of running the model requires loading the `yggdrasil` library, it takes a bit longer to run, but would not be significantly larger for a model with a more realistic (and computationally intensive) calculation."
   ]
  },
  {
   "cell_type": "code",
   "execution_count": null,
   "metadata": {},
   "outputs": [],
   "source": [
    "run('yamls/plant_v0.yml')\n",
    "display_last_timestep()"
   ]
  },
  {
   "cell_type": "markdown",
   "metadata": {},
   "source": [
    "But now we want to add information about other processes to our plant model..."
   ]
  },
  {
   "cell_type": "markdown",
   "metadata": {},
   "source": [
    "# Call to Light Model\n",
    "\n",
    "We can add information by calling other models as functions. For example, consider the toy light model below. It is a function that takes height and time as input and returns the light. \n",
    "\n",
    "Height can be a scalar or an array, but it is computationally more efficient to pass the "
   ]
  },
  {
   "cell_type": "code",
   "execution_count": null,
   "metadata": {},
   "outputs": [],
   "source": [
    "from models import light\n",
    "tools.display_source(light.light, number_lines=True)"
   ]
  },
  {
   "cell_type": "markdown",
   "metadata": {},
   "source": [
    "Because the light model is a function, yggdrasil can automatically wrap it with interface send and receive calls. Therefore, the YAML specification file for this model is relativly simple and the light model itself does not need to be modified at all."
   ]
  },
  {
   "cell_type": "code",
   "execution_count": null,
   "metadata": {},
   "outputs": [],
   "source": [
    "tools.display_source('yamls/light.yml', number_lines=True)"
   ]
  },
  {
   "cell_type": "markdown",
   "metadata": {},
   "source": [
    "The YAML specification file for this version of the plant model differs in that it specifies that it is a client of the model with the name \"light\" and that the light output should be directed to a file if it is not connected to a model."
   ]
  },
  {
   "cell_type": "code",
   "execution_count": null,
   "metadata": {},
   "outputs": [],
   "source": [
    "tools.display_source_diff('yamls/plant_v0.yml', 'yamls/plant_v1.yml', number_lines=True)"
   ]
  },
  {
   "cell_type": "markdown",
   "metadata": {},
   "source": [
    "Then we can add a interface call to the plant model \"client\" that calls the light model \"server\". In addition to the client comm, I have also added an output comm for the light values so that we can plot the light values."
   ]
  },
  {
   "cell_type": "code",
   "execution_count": null,
   "metadata": {},
   "outputs": [],
   "source": [
    "from models import plant_v1\n",
    "tools.display_source_diff(plant_v0.run, plant_v1.run, number_lines=True)"
   ]
  },
  {
   "cell_type": "markdown",
   "metadata": {},
   "source": [
    "We can run the integration of these two models by providing the paths to the YAML specification models to the yggdrasil API. The command to run this integration on the command line would be `yggrun yamls/plant_v1.yml yamls/light.yml`."
   ]
  },
  {
   "cell_type": "code",
   "execution_count": null,
   "metadata": {},
   "outputs": [],
   "source": [
    "run(['yamls/plant_v1.yml', 'yamls/light.yml'], production_run=True)"
   ]
  },
  {
   "cell_type": "markdown",
   "metadata": {},
   "source": [
    "The cell below displays the resulting mesh with color mapped to the light. We can see that the growth tracked by this version of the model is much more subtle."
   ]
  },
  {
   "cell_type": "code",
   "execution_count": null,
   "metadata": {},
   "outputs": [],
   "source": [
    "display_last_timestep(with_light=True)"
   ]
  },
  {
   "cell_type": "markdown",
   "metadata": {},
   "source": [
    "## The light model is easily replaced with other models\n",
    "\n",
    "Feel free to try running one or more of them. They have been coded to produce the same results as the Python version of the light model.\n",
    "\n",
    "### C++ Model"
   ]
  },
  {
   "cell_type": "code",
   "execution_count": null,
   "metadata": {},
   "outputs": [],
   "source": [
    "tools.display_source('yamls/light_cpp.yml', number_lines=True)\n",
    "tools.display_source('models/light.cpp', number_lines=True)\n",
    "run(['yamls/plant_v1.yml', 'yamls/light_cpp.yml'], production_run=True)\n",
    "display_last_timestep(with_light=True)"
   ]
  },
  {
   "cell_type": "markdown",
   "metadata": {},
   "source": [
    "### R Model"
   ]
  },
  {
   "cell_type": "code",
   "execution_count": null,
   "metadata": {},
   "outputs": [],
   "source": [
    "tools.display_source('yamls/light_R.yml', number_lines=True)\n",
    "tools.display_source('models/light.R', number_lines=True)\n",
    "run(['yamls/plant_v1.yml', 'yamls/light_R.yml'], production_run=True)\n",
    "display_last_timestep(with_light=True)"
   ]
  },
  {
   "cell_type": "markdown",
   "metadata": {},
   "source": [
    "### Fortran Model"
   ]
  },
  {
   "cell_type": "code",
   "execution_count": null,
   "metadata": {},
   "outputs": [],
   "source": [
    "tools.display_source('yamls/light_fortran.yml', number_lines=True)\n",
    "tools.display_source('models/light.f90', number_lines=True)\n",
    "run(['yamls/plant_v1.yml', 'yamls/light_fortran.yml'], production_run=True)\n",
    "display_last_timestep(with_light=True)"
   ]
  }
 ],
 "metadata": {
  "kernelspec": {
   "display_name": "Python 3",
   "language": "python",
   "name": "python3"
  },
  "language_info": {
   "codemirror_mode": {
    "name": "ipython",
    "version": 3
   },
   "file_extension": ".py",
   "mimetype": "text/x-python",
   "name": "python",
   "nbconvert_exporter": "python",
   "pygments_lexer": "ipython3",
   "version": "3.6.13"
  }
 },
 "nbformat": 4,
 "nbformat_minor": 4
}
