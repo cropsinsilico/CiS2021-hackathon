{
 "cells": [
  {
   "cell_type": "markdown",
   "id": "5c95edb6",
   "metadata": {},
   "source": [
    "# Import Models as Python Functions\n",
    "\n",
    "A useful feature of yggdrasil is that you can use the mechanics to call models as functions from inside Python even if the model is not written in Python. For example, the model displayed below is written in Fortran, but can be called from Python via the yggdrasil `import_as_function` method."
   ]
  },
  {
   "cell_type": "code",
   "execution_count": null,
   "id": "36c28a3d",
   "metadata": {},
   "outputs": [],
   "source": [
    "from yggdrasil import tools\n",
    "tools.display_source('models/light_v0.f90', number_lines=True)\n",
    "tools.display_source('yamls/light_v0_fortran.yml', number_lines=True)"
   ]
  },
  {
   "cell_type": "markdown",
   "id": "55392638",
   "metadata": {},
   "source": [
    "When import_as_function is called, the model yaml is loaded and models contained in the yaml are run on forked processes after being copiled as necessary. "
   ]
  },
  {
   "cell_type": "code",
   "execution_count": null,
   "id": "323791ea",
   "metadata": {},
   "outputs": [],
   "source": [
    "from yggdrasil import import_as_function\n",
    "light = import_as_function('yamls/light_v0_fortran.yml')"
   ]
  },
  {
   "cell_type": "markdown",
   "id": "bd6eecc4",
   "metadata": {},
   "source": [
    "The returned function's inputs & outputs are determined by the unpaired inputs/outputs located in the yaml. In this example, the only inputs & outputs come from the server."
   ]
  },
  {
   "cell_type": "code",
   "execution_count": null,
   "id": "fc0a5c3a",
   "metadata": {},
   "outputs": [],
   "source": [
    "light.model_info()"
   ]
  },
  {
   "cell_type": "markdown",
   "id": "b5d977ae",
   "metadata": {},
   "source": [
    "The light model can then be called as a function by providing input arguments. If the values provided do not have any units, the default units expected by the light model are assumed (i.e. days and cm)."
   ]
  },
  {
   "cell_type": "code",
   "execution_count": null,
   "id": "b5386200",
   "metadata": {},
   "outputs": [],
   "source": [
    "print(light(100.0, 100.0))\n",
    "print(light(1.0, 2.9))\n",
    "print(light(2.0, 3.0))"
   ]
  },
  {
   "cell_type": "markdown",
   "id": "ff2e1e92",
   "metadata": {},
   "source": [
    "If units are added, the values will be converted into the units expected by the model."
   ]
  },
  {
   "cell_type": "code",
   "execution_count": null,
   "id": "a77d1481",
   "metadata": {},
   "outputs": [],
   "source": [
    "from yggdrasil import units\n",
    "print(light(units.add_units(24.0, 'hrs'), units.add_units(2.9, 'cm')))\n",
    "print(light(units.add_units(1.0, 'days'), units.add_units(0.029, 'm')))"
   ]
  },
  {
   "cell_type": "code",
   "execution_count": null,
   "id": "0a0518ae",
   "metadata": {},
   "outputs": [],
   "source": [
    "light.stop()"
   ]
  },
  {
   "cell_type": "markdown",
   "id": "b7e32b7c",
   "metadata": {},
   "source": [
    "## <span style=\"color:#C52060\">Test your knowledge #7</span>\n",
    "\n",
    "1. <span style=\"color:#C52060\">Try importing the `models/weather.py` model in the cell below. Depending on how you wrote it, you may have to modify the YAML so that the model is alone in a file (i.e. no other models or connections).</span>\n",
    "1. <span style=\"color:#C52060\">Try importing the `models/co2.py` model in the cell below.</span>\n",
    "\n",
    "##### Tip: If a model receives or send multiple variables from/to a channel, those variables will need to be explicitly named to be passed separately to/from the imported function"
   ]
  },
  {
   "cell_type": "code",
   "execution_count": null,
   "id": "daf817db",
   "metadata": {},
   "outputs": [],
   "source": []
  },
  {
   "cell_type": "markdown",
   "id": "c169a7b0",
   "metadata": {},
   "source": [
    "# Overhead\n",
    "Although yggdrasil makes it easy to connect models, the connections come with a performance overhead and can never match the performance from passing messages directly within a language. For example, the three cells below make the same calculation (sine), but the first calls a Python method direction, the second calls the same Python method but via yggdrasil, and the third calls the Fortran `SIN` function via yggdrasil. \n",
    "\n",
    "The direct call to the Python method (first cell) is much more efficient. Similarly, if two models are written in the same language, it will be much more preformant to call the code directly (unless the communication pattern allows models to make computations in parallel)."
   ]
  },
  {
   "cell_type": "code",
   "execution_count": null,
   "id": "6b72afa5",
   "metadata": {},
   "outputs": [],
   "source": [
    "# Calculation using numpy in Python\n",
    "import numpy as np\n",
    "%timeit np.sin(0.0)"
   ]
  },
  {
   "cell_type": "code",
   "execution_count": null,
   "id": "ca24fb34",
   "metadata": {},
   "outputs": [],
   "source": [
    "# Calculation calling numpy in Python via yggdrasil\n",
    "sine_python = import_as_function('yamls/sine_model_python.yml')\n",
    "%timeit sine_python(0.0)\n",
    "sine_python.stop()"
   ]
  },
  {
   "cell_type": "code",
   "execution_count": null,
   "id": "95df4a41",
   "metadata": {},
   "outputs": [],
   "source": [
    "# Calculation calling the fortran SIN function via yggdrasil\n",
    "sine_fortran = import_as_function('yamls/sine_model_fortran.yml')\n",
    "%timeit sine_fortran(0.0)\n",
    "sine_fortran.stop()"
   ]
  },
  {
   "cell_type": "markdown",
   "id": "961ecc88",
   "metadata": {},
   "source": [
    "# Models built by make/cmake\n",
    "Many of the existing computational models contain a large amount of source code organized in directories, modules, etc. For models written in compiled languages, this size and complexity means it is often necessary to use a build tool to compile the model. Yggdrasil allows for such cases by supporting `make` and `cmake` model language parameters.\n",
    "\n",
    "For example, the cell below displays three YAML files. The first is the YAML required to run a C version of the `timesync` enabled roots model from the previous notebook. The second is the YAML required to run the same code, but compiled via make. The third uses cmake. \n",
    "\n",
    "Here yggdrasil assumes the standard build file name (`Makefile` and `CMakeLists.txt`), but the name can also be passed explicitly. Yggdrasil adds the compilation and linking flags to the build by either adjusting the environment variables used by most builds (as in the case of `make`) or creating a dummy version of the build file that adds these flags to the build rules for the selected target (as in the cas of `cmake`)."
   ]
  },
  {
   "cell_type": "code",
   "execution_count": null,
   "id": "f89dd246",
   "metadata": {},
   "outputs": [],
   "source": [
    "tools.display_source('yamls/roots_v1_c.yml', number_lines=True)\n",
    "tools.display_source_diff('yamls/roots_v1_c.yml', 'yamls/roots_v1_make.yml', number_lines=True)\n",
    "tools.display_source_diff('yamls/roots_v1_c.yml', 'yamls/roots_v1_cmake.yml', number_lines=True)"
   ]
  },
  {
   "cell_type": "markdown",
   "id": "c31e119a",
   "metadata": {},
   "source": [
    "# Transforming Inputs & Outputs\n",
    "Sometimes you need to make modifications to the input/output in a connection either based on the problem you are solving or in order to make them compatible. One option is to handle these modifications in the model, but if you are wrapping an existing function or want to avoid modify the model source code. For such cases, yggdrasil provides methods of transforming data through specification in the yaml.\n",
    "\n",
    "The cell below shows the diff for a set of connections to the light model that transforms the intensities from the light model before passing them to the output file by multiplying it by a factor of 2. In this case, the transform is specified via a statement. Transformation statements can be any valid Python code with the input/output passing through the transformation specified as `%x%`."
   ]
  },
  {
   "cell_type": "code",
   "execution_count": null,
   "id": "3b0b6ae1",
   "metadata": {},
   "outputs": [],
   "source": [
    "tools.display_source_diff('yamls/connections_v0.yml', 'yamls/connections_transform_statement.yml', number_lines=True)"
   ]
  },
  {
   "cell_type": "markdown",
   "id": "bfbf16c7",
   "metadata": {},
   "source": [
    "If you run this integration in the cell below, you can see that the resulting output file contains values that are double the values for the original integration."
   ]
  },
  {
   "cell_type": "code",
   "execution_count": null,
   "id": "1d700448",
   "metadata": {},
   "outputs": [],
   "source": [
    "from yggdrasil.runner import run\n",
    "run(['yamls/light_v0_python.yml', 'yamls/connections_transform_statement.yml'], production_run=True)\n",
    "tools.display_source_diff('output/light_v0.txt', 'output/light_transform_statement.txt', number_lines=True)"
   ]
  },
  {
   "cell_type": "markdown",
   "id": "a0c4525a",
   "metadata": {},
   "source": [
    "Transformation that cannot be specified via a simple Python statement (e.g. if you need to use functions that are not builtins), then you can also pass the location of a Python function that can be loaded from a file via the `function` transformation parameter. The format should be `<filename>:<function name>`.\n",
    "\n",
    "The YAML shown below performs the exact same transformation as the previous example, but is performed by the `double_light` function in the file `models/light_transform.py` (also displayed by the cell below)."
   ]
  },
  {
   "cell_type": "code",
   "execution_count": null,
   "id": "9da026a5",
   "metadata": {},
   "outputs": [],
   "source": [
    "tools.display_source_diff('yamls/connections_v0.yml', 'yamls/connections_transform_function.yml', number_lines=True)\n",
    "tools.display_source('models/light_transform.py', number_lines=True)"
   ]
  },
  {
   "cell_type": "markdown",
   "id": "c0ae84ef",
   "metadata": {},
   "source": [
    "# Filtering Inputs & Outputs\n",
    "Similarly to transforming inputs & outputs, sometimes modelers need to filter out some values (e.g. a threshold is reached where a different model needs to be used). For such cases, yggdrasil provides tools for excluding/including values passed through a connection.\n",
    "\n",
    "The cell below shows the diff for a set of connections to the light model that excludes intensities from the light model if the are above 400 ergs/cm^2/s before passing them to the output file. In this case, the filter is specified via a statement. Filter statements are evaluated in the same way as transformation statements (can be any valid Python code with the input/output passing through the transformation specified as `%x%`), but should evaluate to a boolean (i.e. True or False)."
   ]
  },
  {
   "cell_type": "code",
   "execution_count": null,
   "id": "6883d2fd",
   "metadata": {},
   "outputs": [],
   "source": [
    "tools.display_source_diff('yamls/connections_v0.yml', 'yamls/connections_filter_statement.yml', number_lines=True)"
   ]
  },
  {
   "cell_type": "markdown",
   "id": "276d3118",
   "metadata": {},
   "source": [
    "If you run this integration in the cell below, you can see that the resulting output file does not contain the filtered values."
   ]
  },
  {
   "cell_type": "code",
   "execution_count": null,
   "id": "5e828ffd",
   "metadata": {},
   "outputs": [],
   "source": [
    "run(['yamls/light_v0_python.yml', 'yamls/connections_filter_statement.yml'], production_run=True)\n",
    "tools.display_source_diff('output/light_v0.txt', 'output/light_filter_statement.txt', number_lines=True)"
   ]
  },
  {
   "cell_type": "markdown",
   "id": "a5b2d11a",
   "metadata": {},
   "source": [
    "Like transformations, filters can also be specified by passing the location of a Python function that can be loaded from a file via the `function` filter parameter. The format should be `<filename>:<function name>`.\n",
    "\n",
    "The YAML shown below performs the exact same filter as the previous example, but is performed by the `filter_light` function in the file `models/light_filter.py` (also displayed by the cell below)."
   ]
  },
  {
   "cell_type": "code",
   "execution_count": null,
   "id": "da155809",
   "metadata": {},
   "outputs": [],
   "source": [
    "tools.display_source_diff('yamls/connections_v0.yml', 'yamls/connections_filter_function.yml', number_lines=True)\n",
    "tools.display_source('models/light_filter.py', number_lines=True)"
   ]
  },
  {
   "cell_type": "markdown",
   "id": "d699bd31",
   "metadata": {},
   "source": [
    "## <span style=\"color:#C52060\">Test your knowledge #8</span>\n",
    "\n",
    "1. <span style=\"color:#C52060\">Write a YAML that outputs intensities `<400` to one file and `>=400` to a different file.</span>\n",
    "1. <span style=\"color:#C52060\">Create a new version of the light model that calculates light using different parameters or a different algorithm and write a YAML that directs heights `>2` to the original model and `<=2` to the new model, but both models output to the same file.</span>\n",
    "1. <span style=\"color:#C52060\">Add a transformation to the output from the new model.</span>"
   ]
  },
  {
   "cell_type": "code",
   "execution_count": null,
   "id": "e9f2c0e9",
   "metadata": {
    "scrolled": false
   },
   "outputs": [],
   "source": []
  },
  {
   "cell_type": "markdown",
   "id": "e469eee1",
   "metadata": {},
   "source": [
    "## <span style=\"color:#C52060\">Test your knowledge #9</span>\n",
    "\n",
    "1. <span style=\"color:#C52060\">Try running some of the other integrations via the CLI. What does the error look like if a YAML is missing?</span>\n",
    "1. <span style=\"color:#C52060\">Try running an integration with the `--debug` flag. What information does each log line include?</span>"
   ]
  }
 ],
 "metadata": {
  "kernelspec": {
   "display_name": "Python 3",
   "language": "python",
   "name": "python3"
  },
  "language_info": {
   "codemirror_mode": {
    "name": "ipython",
    "version": 3
   },
   "file_extension": ".py",
   "mimetype": "text/x-python",
   "name": "python",
   "nbconvert_exporter": "python",
   "pygments_lexer": "ipython3",
   "version": "3.6.13"
  }
 },
 "nbformat": 4,
 "nbformat_minor": 5
}
