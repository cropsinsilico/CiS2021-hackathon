{
 "cells": [
  {
   "cell_type": "markdown",
   "id": "5c95edb6",
   "metadata": {},
   "source": [
    "# Import Models as Python Functions\n",
    "\n",
    "A useful feature of yggdrasil is that you can use the mechanics to call models as functions from inside Python even if the model is not written in Python. For example, the model displayed below is written in Fortran, but can be called from Python via the yggdrasil `import_as_function` method."
   ]
  },
  {
   "cell_type": "code",
   "execution_count": null,
   "id": "36c28a3d",
   "metadata": {},
   "outputs": [],
   "source": [
    "from yggdrasil import tools\n",
    "tools.display_source('models/light_v0.f90', number_lines=True)\n",
    "tools.display_source('yamls/light_v0_fortran.yml', number_lines=True)"
   ]
  },
  {
   "cell_type": "markdown",
   "id": "55392638",
   "metadata": {},
   "source": [
    "When import_as_function is called, the model yaml is loaded and models contained in the yaml are run on forked processes after being copiled as necessary. "
   ]
  },
  {
   "cell_type": "code",
   "execution_count": null,
   "id": "323791ea",
   "metadata": {},
   "outputs": [],
   "source": [
    "from yggdrasil import import_as_function\n",
    "light = import_as_function('yamls/light_v0_fortran.yml')"
   ]
  },
  {
   "cell_type": "markdown",
   "id": "bd6eecc4",
   "metadata": {},
   "source": [
    "The returned function's inputs & outputs are determined by the unpaired inputs/outputs located in the yaml. In this example, the only inputs & outputs come from the server."
   ]
  },
  {
   "cell_type": "code",
   "execution_count": null,
   "id": "fc0a5c3a",
   "metadata": {},
   "outputs": [],
   "source": [
    "light.model_info()"
   ]
  },
  {
   "cell_type": "markdown",
   "id": "b5d977ae",
   "metadata": {},
   "source": [
    "The light model can then be called as a function by providing input arguments. If the values provided do not have any units, the default units expected by the light model are assumed (i.e. days and cm)."
   ]
  },
  {
   "cell_type": "code",
   "execution_count": null,
   "id": "b5386200",
   "metadata": {},
   "outputs": [],
   "source": [
    "print(light(100.0, 100.0))\n",
    "print(light(1.0, 2.9))\n",
    "print(light(2.0, 3.0))"
   ]
  },
  {
   "cell_type": "markdown",
   "id": "ff2e1e92",
   "metadata": {},
   "source": [
    "If units are added, the values will be converted into the units expected by the model."
   ]
  },
  {
   "cell_type": "code",
   "execution_count": null,
   "id": "a77d1481",
   "metadata": {},
   "outputs": [],
   "source": [
    "from yggdrasil import units\n",
    "print(light(units.add_units(24.0, 'hrs'), units.add_units(2.9, 'cm')))\n",
    "print(light(units.add_units(1.0, 'days'), units.add_units(0.029, 'm')))"
   ]
  },
  {
   "cell_type": "code",
   "execution_count": null,
   "id": "0a0518ae",
   "metadata": {},
   "outputs": [],
   "source": [
    "light.stop()"
   ]
  },
  {
   "cell_type": "markdown",
   "id": "c169a7b0",
   "metadata": {},
   "source": [
    "# Overhead\n",
    "Although yggdrasil makes it easy to connect models, the connections come with a performance overhead and can never match the performance from passing messages directly within a language. For example, the three cells below make the same calculation (sine), but the first calls a Python method direction, the second calls the same Python method but via yggdrasil, and the third calls the Fortran `SIN` function via yggdrasil. \n",
    "\n",
    "The direct call to the Python method (first cell) is much more efficient. Similarly, if two models are written in the same language, it will be much more preformant to call the code directly (unless the communication pattern allows models to make computations in parallel)."
   ]
  },
  {
   "cell_type": "code",
   "execution_count": null,
   "id": "6b72afa5",
   "metadata": {},
   "outputs": [],
   "source": [
    "# Calculation using numpy in Python\n",
    "import numpy as np\n",
    "%timeit np.sin(0.0)"
   ]
  },
  {
   "cell_type": "code",
   "execution_count": null,
   "id": "ca24fb34",
   "metadata": {},
   "outputs": [],
   "source": [
    "# Calculation calling numpy in Python via yggdrasil\n",
    "sine_python = import_as_function('yamls/sine_model_python.yml')\n",
    "%timeit sine_python(0.0)\n",
    "sine_python.stop()"
   ]
  },
  {
   "cell_type": "code",
   "execution_count": null,
   "id": "95df4a41",
   "metadata": {},
   "outputs": [],
   "source": [
    "# Calculation calling the fortran SIN function via yggdrasil\n",
    "sine_fortran = import_as_function('yamls/sine_model_fortran.yml')\n",
    "%timeit sine_fortran(0.0)\n",
    "sine_fortran.stop()"
   ]
  },
  {
   "cell_type": "markdown",
   "id": "961ecc88",
   "metadata": {},
   "source": [
    "# Models built by make/cmake\n",
    "Many of the existing computational models contain a large amount of source code organized in directories, modules, etc. For models written in compiled languages, this size and complexity means it is often necessary to use a build tool to compile the model. Yggdrasil allows for such cases by supporting `make` and `cmake` model language parameters.\n",
    "\n",
    "For example, the cell below displays three YAML files. The first is the YAML required to run a C version of the `timesync` enabled roots model from the previous notebook. The second is the YAML required to run the same code, but compiled via make. The third uses cmake. \n",
    "\n",
    "Here yggdrasil assumes the standard build file name (`Makefile` and `CMakeLists.txt`), but the name can also be passed explicitly. Yggdrasil adds the compilation and linking flags to the build by either adjusting the environment variables used by most builds (as in the case of `make`) or creating a dummy version of the build file that adds these flags to the build rules for the selected target (as in the cas of `cmake`)."
   ]
  },
  {
   "cell_type": "code",
   "execution_count": null,
   "id": "f89dd246",
   "metadata": {},
   "outputs": [],
   "source": [
    "tools.display_source('yamls/roots_v1_c.yml', number_lines=True)\n",
    "tools.display_source_diff('yamls/roots_v1_c.yml', 'yamls/roots_v1_make.yml', number_lines=True)\n",
    "tools.display_source_diff('yamls/roots_v1_c.yml', 'yamls/roots_v1_cmake.yml', number_lines=True)"
   ]
  }
 ],
 "metadata": {
  "kernelspec": {
   "display_name": "Python 3",
   "language": "python",
   "name": "python3"
  },
  "language_info": {
   "codemirror_mode": {
    "name": "ipython",
    "version": 3
   },
   "file_extension": ".py",
   "mimetype": "text/x-python",
   "name": "python",
   "nbconvert_exporter": "python",
   "pygments_lexer": "ipython3",
   "version": "3.6.13"
  }
 },
 "nbformat": 4,
 "nbformat_minor": 5
}
