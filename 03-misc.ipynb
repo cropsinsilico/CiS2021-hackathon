{
 "cells": [
  {
   "cell_type": "markdown",
   "id": "5c95edb6",
   "metadata": {},
   "source": [
    "# Import Models as Python Functions\n",
    "\n",
    "A useful feature of yggdrasil is that you can use the mechanics to call models as functions from inside Python even if the model is not written in Python. For example, the model displayed below is written in Fortran, but can be called from Python via the yggdrasil `import_as_function` method."
   ]
  },
  {
   "cell_type": "code",
   "execution_count": null,
   "id": "36c28a3d",
   "metadata": {},
   "outputs": [],
   "source": [
    "from yggdrasil import tools\n",
    "tools.display_source('models/light_v0.f90', number_lines=True)\n",
    "tools.display_source('yamls/light_v0_fortran.yml', number_lines=True)"
   ]
  },
  {
   "cell_type": "markdown",
   "id": "55392638",
   "metadata": {},
   "source": [
    "When import_as_function is called, the model yaml is loaded and models contained in the yaml are run on forked processes after being copiled as necessary. "
   ]
  },
  {
   "cell_type": "code",
   "execution_count": null,
   "id": "323791ea",
   "metadata": {},
   "outputs": [],
   "source": [
    "from yggdrasil import import_as_function\n",
    "light = import_as_function('yamls/light_v0_fortran.yml')"
   ]
  },
  {
   "cell_type": "markdown",
   "id": "bd6eecc4",
   "metadata": {},
   "source": [
    "The returned function's inputs & outputs are determined by the unpaired inputs/outputs located in the yaml. In this example, the only inputs & outputs come from the server."
   ]
  },
  {
   "cell_type": "code",
   "execution_count": null,
   "id": "fc0a5c3a",
   "metadata": {},
   "outputs": [],
   "source": [
    "light.model_info()"
   ]
  },
  {
   "cell_type": "markdown",
   "id": "b5d977ae",
   "metadata": {},
   "source": [
    "The light model can then be called as a function by providing input arguments. If the values provided do not have any units, the default units expected by the light model are assumed (i.e. days and cm)."
   ]
  },
  {
   "cell_type": "code",
   "execution_count": null,
   "id": "b5386200",
   "metadata": {},
   "outputs": [],
   "source": [
    "import numpy as np\n",
    "print(light(100.0, 100.0))\n",
    "print(light(1.0, 2.9))\n",
    "print(light(2.0, 3.0))"
   ]
  },
  {
   "cell_type": "markdown",
   "id": "ff2e1e92",
   "metadata": {},
   "source": [
    "If units are added, the values will be converted into the units expected by the model."
   ]
  },
  {
   "cell_type": "code",
   "execution_count": null,
   "id": "a77d1481",
   "metadata": {},
   "outputs": [],
   "source": [
    "from yggdrasil import units\n",
    "print(light(units.add_units(24.0, 'hrs'), units.add_units(2.9, 'cm')))\n",
    "print(light(units.add_units(1.0, 'days'), units.add_units(0.029, 'm')))"
   ]
  },
  {
   "cell_type": "code",
   "execution_count": null,
   "id": "0a0518ae",
   "metadata": {},
   "outputs": [],
   "source": [
    "light.stop()"
   ]
  },
  {
   "cell_type": "code",
   "execution_count": null,
   "id": "4ee4ecfd",
   "metadata": {},
   "outputs": [],
   "source": []
  }
 ],
 "metadata": {
  "kernelspec": {
   "display_name": "Python 3",
   "language": "python",
   "name": "python3"
  },
  "language_info": {
   "codemirror_mode": {
    "name": "ipython",
    "version": 3
   },
   "file_extension": ".py",
   "mimetype": "text/x-python",
   "name": "python",
   "nbconvert_exporter": "python",
   "pygments_lexer": "ipython3",
   "version": "3.6.13"
  }
 },
 "nbformat": 4,
 "nbformat_minor": 5
}
