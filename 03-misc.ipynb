{
 "cells": [
  {
   "cell_type": "markdown",
   "id": "5c95edb6",
   "metadata": {},
   "source": [
    "# Import Models as Python Functions\n",
    "\n",
    "A useful feature of yggdrasil is that you can use the mechanics to call models as functions from inside Python even if the model is not written in Python. For example, the model displayed below is written in Fortran, but can be called from Python via the yggdrasil `import_as_function` method."
   ]
  },
  {
   "cell_type": "code",
   "execution_count": null,
   "id": "36c28a3d",
   "metadata": {},
   "outputs": [],
   "source": [
    "from yggdrasil import tools\n",
    "tools.display_source('models/light_v0.f90', number_lines=True)\n",
    "tools.display_source('yamls/light_v0_fortran.yml', number_lines=True)"
   ]
  },
  {
   "cell_type": "markdown",
   "id": "55392638",
   "metadata": {},
   "source": [
    "When import_as_function is called, the model yaml is loaded and models contained in the yaml are run on forked processes after being copiled as necessary. "
   ]
  },
  {
   "cell_type": "code",
   "execution_count": 1,
   "id": "323791ea",
   "metadata": {},
   "outputs": [
    {
     "name": "stdout",
     "output_type": "stream",
     "text": [
      "INFO:runner.startDrivers[489]:YggRunner(runner): Starting I/O drivers and models on system None in namespace yggdrasil with rank 0\n",
      "/Users/langmm/yggdrasil/yggdrasil/demos/CiS2021-hackathon/models/ygg_light_v0_f90_gfortranx_gfortranx.out\n",
      "INFO:runner.run[376]:YggRunner(runner):                 init\t0.000000\n",
      "INFO:runner.run[376]:YggRunner(runner):         load drivers\t0.489717\n",
      "INFO:runner.run[376]:YggRunner(runner):        start drivers\t0.069922\n",
      "INFO:runner.run[378]:YggRunner(runner): ========================================\n",
      "INFO:runner.run[379]:YggRunner(runner):                Total\t0.559639\n"
     ]
    }
   ],
   "source": [
    "from yggdrasil import import_as_function\n",
    "light = import_as_function('yamls/light_v0_fortran.yml')"
   ]
  },
  {
   "cell_type": "markdown",
   "id": "bd6eecc4",
   "metadata": {},
   "source": [
    "The returned function's inputs & outputs are determined by the unpaired inputs/outputs located in the yaml. In this example, the only inputs & outputs come from the server."
   ]
  },
  {
   "cell_type": "code",
   "execution_count": null,
   "id": "fc0a5c3a",
   "metadata": {},
   "outputs": [],
   "source": [
    "light.model_info()"
   ]
  },
  {
   "cell_type": "markdown",
   "id": "b5d977ae",
   "metadata": {},
   "source": [
    "The light model can then be called as a function by providing input arguments. If the values provided do not have any units, the default units expected by the light model are assumed (i.e. days and cm)."
   ]
  },
  {
   "cell_type": "code",
   "execution_count": 2,
   "id": "b5386200",
   "metadata": {},
   "outputs": [
    {
     "name": "stdout",
     "output_type": "stream",
     "text": [
      "{'intensity': unyt_quantity(15909.42066435, 'erg/(cm**2*s)')}\n",
      "{'intensity': unyt_quantity(235.99349874, 'erg/(cm**2*s)')}\n",
      "{'intensity': unyt_quantity(248.26118702, 'erg/(cm**2*s)')}\n"
     ]
    }
   ],
   "source": [
    "import numpy as np\n",
    "print(light(100.0, 100.0))\n",
    "print(light(1.0, 2.9))\n",
    "print(light(2.0, 3.0))"
   ]
  },
  {
   "cell_type": "markdown",
   "id": "f95ed395",
   "metadata": {},
   "source": [
    "If units are added, the values will be converted into the units expected by the model."
   ]
  },
  {
   "cell_type": "code",
   "execution_count": 4,
   "id": "a77d1481",
   "metadata": {},
   "outputs": [
    {
     "name": "stdout",
     "output_type": "stream",
     "text": [
      "{'intensity': unyt_quantity(235.99349874, 'erg/(cm**2*s)')}\n",
      "{'intensity': unyt_quantity(235.99349874, 'erg/(cm**2*s)')}\n"
     ]
    }
   ],
   "source": [
    "from yggdrasil import units\n",
    "print(light(units.add_units(24.0, 'hrs'), units.add_units(2.9, 'cm')))\n",
    "print(light(units.add_units(1.0, 'days'), units.add_units(0.029, 'm')))"
   ]
  },
  {
   "cell_type": "code",
   "execution_count": 5,
   "id": "0a0518ae",
   "metadata": {},
   "outputs": [
    {
     "name": "stdout",
     "output_type": "stream",
     "text": [
      "End of input from [yggarg(doy), yggarg(height)].\n",
      "INFO:runner.waitModels[546]:YggRunner(runner): light finished running.\n",
      "INFO:runner.waitModels[552]:YggRunner(runner): light finished exiting.\n",
      "INFO:runner.waitModels[546]:YggRunner(runner): function_model finished running.\n",
      "INFO:runner.waitModels[552]:YggRunner(runner): function_model finished exiting.\n",
      "INFO:runner.waitModels[566]:YggRunner(runner): All models completed\n"
     ]
    }
   ],
   "source": [
    "light.stop()"
   ]
  },
  {
   "cell_type": "code",
   "execution_count": null,
   "id": "4ee4ecfd",
   "metadata": {},
   "outputs": [],
   "source": []
  }
 ],
 "metadata": {
  "kernelspec": {
   "display_name": "Python 3",
   "language": "python",
   "name": "python3"
  },
  "language_info": {
   "codemirror_mode": {
    "name": "ipython",
    "version": 3
   },
   "file_extension": ".py",
   "mimetype": "text/x-python",
   "name": "python",
   "nbconvert_exporter": "python",
   "pygments_lexer": "ipython3",
   "version": "3.6.13"
  }
 },
 "nbformat": 4,
 "nbformat_minor": 5
}
